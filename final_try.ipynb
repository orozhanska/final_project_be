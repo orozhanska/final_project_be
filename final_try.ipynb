{
 "cells": [
  {
   "cell_type": "code",
   "execution_count": 2,
   "id": "initial_id",
   "metadata": {
    "collapsed": true,
    "ExecuteTime": {
     "end_time": "2024-07-04T18:22:49.268721Z",
     "start_time": "2024-07-04T18:22:48.230662Z"
    }
   },
   "outputs": [],
   "source": [
    "import pandas as pd"
   ]
  },
  {
   "cell_type": "code",
   "outputs": [],
   "source": [
    "df = pd.read_csv('dataframes')"
   ],
   "metadata": {
    "collapsed": false,
    "ExecuteTime": {
     "end_time": "2024-07-02T19:50:17.941998Z",
     "start_time": "2024-07-02T19:50:17.934903Z"
    }
   },
   "id": "a120b9703fdbb8cd",
   "execution_count": 11
  },
  {
   "cell_type": "code",
   "outputs": [
    {
     "data": {
      "text/plain": "    csv_path  total_records  metric\n0  balbalbal           1000     555\n1    bububub            200       0",
      "text/html": "<div>\n<style scoped>\n    .dataframe tbody tr th:only-of-type {\n        vertical-align: middle;\n    }\n\n    .dataframe tbody tr th {\n        vertical-align: top;\n    }\n\n    .dataframe thead th {\n        text-align: right;\n    }\n</style>\n<table border=\"1\" class=\"dataframe\">\n  <thead>\n    <tr style=\"text-align: right;\">\n      <th></th>\n      <th>csv_path</th>\n      <th>total_records</th>\n      <th>metric</th>\n    </tr>\n  </thead>\n  <tbody>\n    <tr>\n      <th>0</th>\n      <td>balbalbal</td>\n      <td>1000</td>\n      <td>555</td>\n    </tr>\n    <tr>\n      <th>1</th>\n      <td>bububub</td>\n      <td>200</td>\n      <td>0</td>\n    </tr>\n  </tbody>\n</table>\n</div>"
     },
     "execution_count": 12,
     "metadata": {},
     "output_type": "execute_result"
    }
   ],
   "source": [
    "df"
   ],
   "metadata": {
    "collapsed": false,
    "ExecuteTime": {
     "end_time": "2024-07-02T19:50:18.455108Z",
     "start_time": "2024-07-02T19:50:18.447780Z"
    }
   },
   "id": "b99295dd54cacdc3",
   "execution_count": 12
  },
  {
   "cell_type": "code",
   "outputs": [],
   "source": [
    "df[0] = {'csv_path': 'bal', 'total_records': '3', 'metric': '3'}"
   ],
   "metadata": {
    "collapsed": false,
    "ExecuteTime": {
     "end_time": "2024-07-02T19:38:48.549574Z",
     "start_time": "2024-07-02T19:38:48.535698Z"
    }
   },
   "id": "d2716e457fda25",
   "execution_count": 7
  },
  {
   "cell_type": "code",
   "outputs": [
    {
     "data": {
      "text/plain": "               ind csv_path total_records metric    0\ncsv_path       NaN      NaN           NaN    NaN  bal\ntotal_records  NaN      NaN           NaN    NaN    3\nmetric         NaN      NaN           NaN    NaN    3",
      "text/html": "<div>\n<style scoped>\n    .dataframe tbody tr th:only-of-type {\n        vertical-align: middle;\n    }\n\n    .dataframe tbody tr th {\n        vertical-align: top;\n    }\n\n    .dataframe thead th {\n        text-align: right;\n    }\n</style>\n<table border=\"1\" class=\"dataframe\">\n  <thead>\n    <tr style=\"text-align: right;\">\n      <th></th>\n      <th>ind</th>\n      <th>csv_path</th>\n      <th>total_records</th>\n      <th>metric</th>\n      <th>0</th>\n    </tr>\n  </thead>\n  <tbody>\n    <tr>\n      <th>csv_path</th>\n      <td>NaN</td>\n      <td>NaN</td>\n      <td>NaN</td>\n      <td>NaN</td>\n      <td>bal</td>\n    </tr>\n    <tr>\n      <th>total_records</th>\n      <td>NaN</td>\n      <td>NaN</td>\n      <td>NaN</td>\n      <td>NaN</td>\n      <td>3</td>\n    </tr>\n    <tr>\n      <th>metric</th>\n      <td>NaN</td>\n      <td>NaN</td>\n      <td>NaN</td>\n      <td>NaN</td>\n      <td>3</td>\n    </tr>\n  </tbody>\n</table>\n</div>"
     },
     "execution_count": 8,
     "metadata": {},
     "output_type": "execute_result"
    }
   ],
   "source": [
    "df"
   ],
   "metadata": {
    "collapsed": false,
    "ExecuteTime": {
     "end_time": "2024-07-02T19:38:53.465369Z",
     "start_time": "2024-07-02T19:38:53.457121Z"
    }
   },
   "id": "2e905734ddd7018d",
   "execution_count": 8
  },
  {
   "cell_type": "code",
   "outputs": [
    {
     "data": {
      "text/plain": "Empty DataFrame\nColumns: [csv_path, total_records, metric]\nIndex: []",
      "text/html": "<div>\n<style scoped>\n    .dataframe tbody tr th:only-of-type {\n        vertical-align: middle;\n    }\n\n    .dataframe tbody tr th {\n        vertical-align: top;\n    }\n\n    .dataframe thead th {\n        text-align: right;\n    }\n</style>\n<table border=\"1\" class=\"dataframe\">\n  <thead>\n    <tr style=\"text-align: right;\">\n      <th></th>\n      <th>csv_path</th>\n      <th>total_records</th>\n      <th>metric</th>\n    </tr>\n  </thead>\n  <tbody>\n  </tbody>\n</table>\n</div>"
     },
     "execution_count": 3,
     "metadata": {},
     "output_type": "execute_result"
    }
   ],
   "source": [
    "df"
   ],
   "metadata": {
    "collapsed": false,
    "ExecuteTime": {
     "end_time": "2024-07-02T19:34:15.388588Z",
     "start_time": "2024-07-02T19:34:15.373991Z"
    }
   },
   "id": "7ed0f50e903e0942",
   "execution_count": 3
  },
  {
   "cell_type": "code",
   "outputs": [],
   "source": [
    "df"
   ],
   "metadata": {
    "collapsed": false
   },
   "id": "ccd4f14c9c3bee7e"
  },
  {
   "cell_type": "code",
   "outputs": [],
   "source": [
    "df2 = pd.read_csv(\"C:\\\\Users\\\\Olesia\\\\Desktop\\\\incomeStatement-GOOG-annual (1).csv\", index_col = False)"
   ],
   "metadata": {
    "collapsed": false,
    "ExecuteTime": {
     "end_time": "2024-07-04T09:11:58.199529Z",
     "start_time": "2024-07-04T09:11:58.188950Z"
    }
   },
   "id": "aed7c9158bce9e46",
   "execution_count": 11
  },
  {
   "cell_type": "code",
   "outputs": [
    {
     "data": {
      "text/plain": "         date  symbol  reportedCurrency      cik  fillingDate  \\\n0  2023-12-31    GOOG               USD  1652044   2024-01-31   \n1  2022-12-31    GOOG               USD  1652044   2023-02-03   \n2  2021-12-31    GOOG               USD  1652044   2022-02-02   \n3  2020-12-31    GOOG               USD  1652044   2021-02-03   \n\n          acceptedDate   calendarYear  period       revenue   costOfRevenue  \\\n0  2024-01-30 21:43:43           2023      FY  307394000000    133332000000   \n1  2023-02-02 21:23:45           2022      FY  282836000000    126203000000   \n2  2022-02-01 21:08:02           2021      FY  257637000000    110939000000   \n3  2021-02-02 20:12:25           2020      FY  182527000000     84732000000   \n\n   ...   dividendsPaid   otherDistributions   retainedEarnings      grossPPE  \\\n0  ...             0.0        -1.059100e+10       2.112470e+11  1.484360e+11   \n1  ...             NaN                  NaN                NaN           NaN   \n2  ...             NaN                  NaN                NaN           NaN   \n3  ...             NaN                  NaN                NaN           NaN   \n\n    annualDepreciation   capitalExpenditure        netPPE   lastGoodwill  \\\n0         1.563000e+09        -1.101900e+10  1.578920e+11   2.914600e+10   \n1                  NaN                  NaN           NaN            NaN   \n2                  NaN                  NaN           NaN            NaN   \n3                  NaN                  NaN           NaN            NaN   \n\n    acquisitionsAndAdjustments      goodwill  \n0                   52000000.0  2.919800e+10  \n1                          NaN           NaN  \n2                          NaN           NaN  \n3                          NaN           NaN  \n\n[4 rows x 50 columns]",
      "text/html": "<div>\n<style scoped>\n    .dataframe tbody tr th:only-of-type {\n        vertical-align: middle;\n    }\n\n    .dataframe tbody tr th {\n        vertical-align: top;\n    }\n\n    .dataframe thead th {\n        text-align: right;\n    }\n</style>\n<table border=\"1\" class=\"dataframe\">\n  <thead>\n    <tr style=\"text-align: right;\">\n      <th></th>\n      <th>date</th>\n      <th>symbol</th>\n      <th>reportedCurrency</th>\n      <th>cik</th>\n      <th>fillingDate</th>\n      <th>acceptedDate</th>\n      <th>calendarYear</th>\n      <th>period</th>\n      <th>revenue</th>\n      <th>costOfRevenue</th>\n      <th>...</th>\n      <th>dividendsPaid</th>\n      <th>otherDistributions</th>\n      <th>retainedEarnings</th>\n      <th>grossPPE</th>\n      <th>annualDepreciation</th>\n      <th>capitalExpenditure</th>\n      <th>netPPE</th>\n      <th>lastGoodwill</th>\n      <th>acquisitionsAndAdjustments</th>\n      <th>goodwill</th>\n    </tr>\n  </thead>\n  <tbody>\n    <tr>\n      <th>0</th>\n      <td>2023-12-31</td>\n      <td>GOOG</td>\n      <td>USD</td>\n      <td>1652044</td>\n      <td>2024-01-31</td>\n      <td>2024-01-30 21:43:43</td>\n      <td>2023</td>\n      <td>FY</td>\n      <td>307394000000</td>\n      <td>133332000000</td>\n      <td>...</td>\n      <td>0.0</td>\n      <td>-1.059100e+10</td>\n      <td>2.112470e+11</td>\n      <td>1.484360e+11</td>\n      <td>1.563000e+09</td>\n      <td>-1.101900e+10</td>\n      <td>1.578920e+11</td>\n      <td>2.914600e+10</td>\n      <td>52000000.0</td>\n      <td>2.919800e+10</td>\n    </tr>\n    <tr>\n      <th>1</th>\n      <td>2022-12-31</td>\n      <td>GOOG</td>\n      <td>USD</td>\n      <td>1652044</td>\n      <td>2023-02-03</td>\n      <td>2023-02-02 21:23:45</td>\n      <td>2022</td>\n      <td>FY</td>\n      <td>282836000000</td>\n      <td>126203000000</td>\n      <td>...</td>\n      <td>NaN</td>\n      <td>NaN</td>\n      <td>NaN</td>\n      <td>NaN</td>\n      <td>NaN</td>\n      <td>NaN</td>\n      <td>NaN</td>\n      <td>NaN</td>\n      <td>NaN</td>\n      <td>NaN</td>\n    </tr>\n    <tr>\n      <th>2</th>\n      <td>2021-12-31</td>\n      <td>GOOG</td>\n      <td>USD</td>\n      <td>1652044</td>\n      <td>2022-02-02</td>\n      <td>2022-02-01 21:08:02</td>\n      <td>2021</td>\n      <td>FY</td>\n      <td>257637000000</td>\n      <td>110939000000</td>\n      <td>...</td>\n      <td>NaN</td>\n      <td>NaN</td>\n      <td>NaN</td>\n      <td>NaN</td>\n      <td>NaN</td>\n      <td>NaN</td>\n      <td>NaN</td>\n      <td>NaN</td>\n      <td>NaN</td>\n      <td>NaN</td>\n    </tr>\n    <tr>\n      <th>3</th>\n      <td>2020-12-31</td>\n      <td>GOOG</td>\n      <td>USD</td>\n      <td>1652044</td>\n      <td>2021-02-03</td>\n      <td>2021-02-02 20:12:25</td>\n      <td>2020</td>\n      <td>FY</td>\n      <td>182527000000</td>\n      <td>84732000000</td>\n      <td>...</td>\n      <td>NaN</td>\n      <td>NaN</td>\n      <td>NaN</td>\n      <td>NaN</td>\n      <td>NaN</td>\n      <td>NaN</td>\n      <td>NaN</td>\n      <td>NaN</td>\n      <td>NaN</td>\n      <td>NaN</td>\n    </tr>\n  </tbody>\n</table>\n<p>4 rows × 50 columns</p>\n</div>"
     },
     "execution_count": 12,
     "metadata": {},
     "output_type": "execute_result"
    }
   ],
   "source": [
    "df2.head(10)"
   ],
   "metadata": {
    "collapsed": false,
    "ExecuteTime": {
     "end_time": "2024-07-04T09:11:59.750821Z",
     "start_time": "2024-07-04T09:11:59.726836Z"
    }
   },
   "id": "b8cbf40be3ba6277",
   "execution_count": 12
  },
  {
   "cell_type": "code",
   "outputs": [
    {
     "data": {
      "text/plain": "Index(['date', ' symbol', ' reportedCurrency', ' cik', ' fillingDate',\n       ' acceptedDate', ' calendarYear', ' period', ' revenue',\n       ' costOfRevenue', ' grossProfit', ' grossProfitRatio',\n       ' researchAndDevelopmentExpenses', ' generalAndAdministrativeExpenses',\n       ' sellingAndMarketingExpenses',\n       ' sellingGeneralAndAdministrativeExpenses', ' otherExpenses',\n       ' operatingExpenses', ' costAndExpenses', ' interestIncome',\n       ' interestExpense', ' depreciationAndAmortization', ' ebitda',\n       ' ebitdaratio', ' operatingIncome', ' operatingIncomeRatio',\n       ' totalOtherIncomeExpensesNet', ' incomeBeforeTax',\n       ' incomeBeforeTaxRatio', ' incomeTaxExpense', ' netIncome',\n       ' netIncomeRatio', ' eps', ' epsdiluted', ' weightedAverageShsOut',\n       ' weightedAverageShsOutDil', ' link', ' finalLink',\n       ' lastRetainedEarnings', ' stockRepurchases', ' dividendsPaid',\n       ' otherDistributions', ' retainedEarnings', ' grossPPE',\n       ' annualDepreciation', ' capitalExpenditure', ' netPPE',\n       ' lastGoodwill', ' acquisitionsAndAdjustments', ' goodwill'],\n      dtype='object')"
     },
     "execution_count": 13,
     "metadata": {},
     "output_type": "execute_result"
    }
   ],
   "source": [
    "df2.columns"
   ],
   "metadata": {
    "collapsed": false,
    "ExecuteTime": {
     "end_time": "2024-07-04T09:21:22.112520Z",
     "start_time": "2024-07-04T09:21:22.105391Z"
    }
   },
   "id": "4b0e81c1583186b6",
   "execution_count": 13
  },
  {
   "cell_type": "code",
   "outputs": [],
   "source": [
    "df2.columns = df2.columns.str.strip()"
   ],
   "metadata": {
    "collapsed": false,
    "ExecuteTime": {
     "end_time": "2024-07-04T09:22:21.335367Z",
     "start_time": "2024-07-04T09:22:21.330726Z"
    }
   },
   "id": "53da9ad24d8f9a4d",
   "execution_count": 14
  },
  {
   "cell_type": "code",
   "outputs": [
    {
     "data": {
      "text/plain": "Index(['date', 'symbol', 'reportedCurrency', 'cik', 'fillingDate',\n       'acceptedDate', 'calendarYear', 'period', 'revenue', 'costOfRevenue',\n       'grossProfit', 'grossProfitRatio', 'researchAndDevelopmentExpenses',\n       'generalAndAdministrativeExpenses', 'sellingAndMarketingExpenses',\n       'sellingGeneralAndAdministrativeExpenses', 'otherExpenses',\n       'operatingExpenses', 'costAndExpenses', 'interestIncome',\n       'interestExpense', 'depreciationAndAmortization', 'ebitda',\n       'ebitdaratio', 'operatingIncome', 'operatingIncomeRatio',\n       'totalOtherIncomeExpensesNet', 'incomeBeforeTax',\n       'incomeBeforeTaxRatio', 'incomeTaxExpense', 'netIncome',\n       'netIncomeRatio', 'eps', 'epsdiluted', 'weightedAverageShsOut',\n       'weightedAverageShsOutDil', 'link', 'finalLink', 'lastRetainedEarnings',\n       'stockRepurchases', 'dividendsPaid', 'otherDistributions',\n       'retainedEarnings', 'grossPPE', 'annualDepreciation',\n       'capitalExpenditure', 'netPPE', 'lastGoodwill',\n       'acquisitionsAndAdjustments', 'goodwill'],\n      dtype='object')"
     },
     "execution_count": 15,
     "metadata": {},
     "output_type": "execute_result"
    }
   ],
   "source": [
    "df2.columns"
   ],
   "metadata": {
    "collapsed": false,
    "ExecuteTime": {
     "end_time": "2024-07-04T09:22:27.477989Z",
     "start_time": "2024-07-04T09:22:27.471413Z"
    }
   },
   "id": "b0344306bb473ed7",
   "execution_count": 15
  },
  {
   "cell_type": "code",
   "outputs": [
    {
     "data": {
      "text/plain": "         date symbol reportedCurrency      cik fillingDate  \\\n0  2023-12-31   GOOG              USD  1652044  2024-01-31   \n1  2022-12-31   GOOG              USD  1652044  2023-02-03   \n2  2021-12-31   GOOG              USD  1652044  2022-02-02   \n3  2020-12-31   GOOG              USD  1652044  2021-02-03   \n\n          acceptedDate  calendarYear period       revenue  costOfRevenue  ...  \\\n0  2024-01-30 21:43:43          2023     FY  307394000000   133332000000  ...   \n1  2023-02-02 21:23:45          2022     FY  282836000000   126203000000  ...   \n2  2022-02-01 21:08:02          2021     FY  257637000000   110939000000  ...   \n3  2021-02-02 20:12:25          2020     FY  182527000000    84732000000  ...   \n\n   dividendsPaid  otherDistributions  retainedEarnings      grossPPE  \\\n0            0.0       -1.059100e+10      2.112470e+11  1.484360e+11   \n1            NaN                 NaN               NaN           NaN   \n2            NaN                 NaN               NaN           NaN   \n3            NaN                 NaN               NaN           NaN   \n\n   annualDepreciation  capitalExpenditure        netPPE  lastGoodwill  \\\n0        1.563000e+09       -1.101900e+10  1.578920e+11  2.914600e+10   \n1                 NaN                 NaN           NaN           NaN   \n2                 NaN                 NaN           NaN           NaN   \n3                 NaN                 NaN           NaN           NaN   \n\n   acquisitionsAndAdjustments      goodwill  \n0                  52000000.0  2.919800e+10  \n1                         NaN           NaN  \n2                         NaN           NaN  \n3                         NaN           NaN  \n\n[4 rows x 50 columns]",
      "text/html": "<div>\n<style scoped>\n    .dataframe tbody tr th:only-of-type {\n        vertical-align: middle;\n    }\n\n    .dataframe tbody tr th {\n        vertical-align: top;\n    }\n\n    .dataframe thead th {\n        text-align: right;\n    }\n</style>\n<table border=\"1\" class=\"dataframe\">\n  <thead>\n    <tr style=\"text-align: right;\">\n      <th></th>\n      <th>date</th>\n      <th>symbol</th>\n      <th>reportedCurrency</th>\n      <th>cik</th>\n      <th>fillingDate</th>\n      <th>acceptedDate</th>\n      <th>calendarYear</th>\n      <th>period</th>\n      <th>revenue</th>\n      <th>costOfRevenue</th>\n      <th>...</th>\n      <th>dividendsPaid</th>\n      <th>otherDistributions</th>\n      <th>retainedEarnings</th>\n      <th>grossPPE</th>\n      <th>annualDepreciation</th>\n      <th>capitalExpenditure</th>\n      <th>netPPE</th>\n      <th>lastGoodwill</th>\n      <th>acquisitionsAndAdjustments</th>\n      <th>goodwill</th>\n    </tr>\n  </thead>\n  <tbody>\n    <tr>\n      <th>0</th>\n      <td>2023-12-31</td>\n      <td>GOOG</td>\n      <td>USD</td>\n      <td>1652044</td>\n      <td>2024-01-31</td>\n      <td>2024-01-30 21:43:43</td>\n      <td>2023</td>\n      <td>FY</td>\n      <td>307394000000</td>\n      <td>133332000000</td>\n      <td>...</td>\n      <td>0.0</td>\n      <td>-1.059100e+10</td>\n      <td>2.112470e+11</td>\n      <td>1.484360e+11</td>\n      <td>1.563000e+09</td>\n      <td>-1.101900e+10</td>\n      <td>1.578920e+11</td>\n      <td>2.914600e+10</td>\n      <td>52000000.0</td>\n      <td>2.919800e+10</td>\n    </tr>\n    <tr>\n      <th>1</th>\n      <td>2022-12-31</td>\n      <td>GOOG</td>\n      <td>USD</td>\n      <td>1652044</td>\n      <td>2023-02-03</td>\n      <td>2023-02-02 21:23:45</td>\n      <td>2022</td>\n      <td>FY</td>\n      <td>282836000000</td>\n      <td>126203000000</td>\n      <td>...</td>\n      <td>NaN</td>\n      <td>NaN</td>\n      <td>NaN</td>\n      <td>NaN</td>\n      <td>NaN</td>\n      <td>NaN</td>\n      <td>NaN</td>\n      <td>NaN</td>\n      <td>NaN</td>\n      <td>NaN</td>\n    </tr>\n    <tr>\n      <th>2</th>\n      <td>2021-12-31</td>\n      <td>GOOG</td>\n      <td>USD</td>\n      <td>1652044</td>\n      <td>2022-02-02</td>\n      <td>2022-02-01 21:08:02</td>\n      <td>2021</td>\n      <td>FY</td>\n      <td>257637000000</td>\n      <td>110939000000</td>\n      <td>...</td>\n      <td>NaN</td>\n      <td>NaN</td>\n      <td>NaN</td>\n      <td>NaN</td>\n      <td>NaN</td>\n      <td>NaN</td>\n      <td>NaN</td>\n      <td>NaN</td>\n      <td>NaN</td>\n      <td>NaN</td>\n    </tr>\n    <tr>\n      <th>3</th>\n      <td>2020-12-31</td>\n      <td>GOOG</td>\n      <td>USD</td>\n      <td>1652044</td>\n      <td>2021-02-03</td>\n      <td>2021-02-02 20:12:25</td>\n      <td>2020</td>\n      <td>FY</td>\n      <td>182527000000</td>\n      <td>84732000000</td>\n      <td>...</td>\n      <td>NaN</td>\n      <td>NaN</td>\n      <td>NaN</td>\n      <td>NaN</td>\n      <td>NaN</td>\n      <td>NaN</td>\n      <td>NaN</td>\n      <td>NaN</td>\n      <td>NaN</td>\n      <td>NaN</td>\n    </tr>\n  </tbody>\n</table>\n<p>4 rows × 50 columns</p>\n</div>"
     },
     "execution_count": 16,
     "metadata": {},
     "output_type": "execute_result"
    }
   ],
   "source": [
    "df2"
   ],
   "metadata": {
    "collapsed": false,
    "ExecuteTime": {
     "end_time": "2024-07-04T09:22:35.276740Z",
     "start_time": "2024-07-04T09:22:35.255285Z"
    }
   },
   "id": "8fc6ec1183b9e7d7",
   "execution_count": 16
  },
  {
   "cell_type": "code",
   "outputs": [],
   "source": [
    "df2['grossProfitcalc'] = df2['revenue'] - df2['costOfRevenue']"
   ],
   "metadata": {
    "collapsed": false,
    "ExecuteTime": {
     "end_time": "2024-07-04T09:24:27.028198Z",
     "start_time": "2024-07-04T09:24:27.022922Z"
    }
   },
   "id": "425590cf54f33ac0",
   "execution_count": 19
  },
  {
   "cell_type": "code",
   "outputs": [
    {
     "data": {
      "text/plain": "         date symbol reportedCurrency      cik fillingDate  \\\n0  2023-12-31   GOOG              USD  1652044  2024-01-31   \n1  2022-12-31   GOOG              USD  1652044  2023-02-03   \n2  2021-12-31   GOOG              USD  1652044  2022-02-02   \n3  2020-12-31   GOOG              USD  1652044  2021-02-03   \n\n          acceptedDate  calendarYear period       revenue  costOfRevenue  ...  \\\n0  2024-01-30 21:43:43          2023     FY  307394000000   133332000000  ...   \n1  2023-02-02 21:23:45          2022     FY  282836000000   126203000000  ...   \n2  2022-02-01 21:08:02          2021     FY  257637000000   110939000000  ...   \n3  2021-02-02 20:12:25          2020     FY  182527000000    84732000000  ...   \n\n   otherDistributions  retainedEarnings      grossPPE  annualDepreciation  \\\n0       -1.059100e+10      2.112470e+11  1.484360e+11        1.563000e+09   \n1                 NaN               NaN           NaN                 NaN   \n2                 NaN               NaN           NaN                 NaN   \n3                 NaN               NaN           NaN                 NaN   \n\n   capitalExpenditure        netPPE  lastGoodwill  acquisitionsAndAdjustments  \\\n0       -1.101900e+10  1.578920e+11  2.914600e+10                  52000000.0   \n1                 NaN           NaN           NaN                         NaN   \n2                 NaN           NaN           NaN                         NaN   \n3                 NaN           NaN           NaN                         NaN   \n\n       goodwill  grossProfitcalc  \n0  2.919800e+10     174062000000  \n1           NaN     156633000000  \n2           NaN     146698000000  \n3           NaN      97795000000  \n\n[4 rows x 51 columns]",
      "text/html": "<div>\n<style scoped>\n    .dataframe tbody tr th:only-of-type {\n        vertical-align: middle;\n    }\n\n    .dataframe tbody tr th {\n        vertical-align: top;\n    }\n\n    .dataframe thead th {\n        text-align: right;\n    }\n</style>\n<table border=\"1\" class=\"dataframe\">\n  <thead>\n    <tr style=\"text-align: right;\">\n      <th></th>\n      <th>date</th>\n      <th>symbol</th>\n      <th>reportedCurrency</th>\n      <th>cik</th>\n      <th>fillingDate</th>\n      <th>acceptedDate</th>\n      <th>calendarYear</th>\n      <th>period</th>\n      <th>revenue</th>\n      <th>costOfRevenue</th>\n      <th>...</th>\n      <th>otherDistributions</th>\n      <th>retainedEarnings</th>\n      <th>grossPPE</th>\n      <th>annualDepreciation</th>\n      <th>capitalExpenditure</th>\n      <th>netPPE</th>\n      <th>lastGoodwill</th>\n      <th>acquisitionsAndAdjustments</th>\n      <th>goodwill</th>\n      <th>grossProfitcalc</th>\n    </tr>\n  </thead>\n  <tbody>\n    <tr>\n      <th>0</th>\n      <td>2023-12-31</td>\n      <td>GOOG</td>\n      <td>USD</td>\n      <td>1652044</td>\n      <td>2024-01-31</td>\n      <td>2024-01-30 21:43:43</td>\n      <td>2023</td>\n      <td>FY</td>\n      <td>307394000000</td>\n      <td>133332000000</td>\n      <td>...</td>\n      <td>-1.059100e+10</td>\n      <td>2.112470e+11</td>\n      <td>1.484360e+11</td>\n      <td>1.563000e+09</td>\n      <td>-1.101900e+10</td>\n      <td>1.578920e+11</td>\n      <td>2.914600e+10</td>\n      <td>52000000.0</td>\n      <td>2.919800e+10</td>\n      <td>174062000000</td>\n    </tr>\n    <tr>\n      <th>1</th>\n      <td>2022-12-31</td>\n      <td>GOOG</td>\n      <td>USD</td>\n      <td>1652044</td>\n      <td>2023-02-03</td>\n      <td>2023-02-02 21:23:45</td>\n      <td>2022</td>\n      <td>FY</td>\n      <td>282836000000</td>\n      <td>126203000000</td>\n      <td>...</td>\n      <td>NaN</td>\n      <td>NaN</td>\n      <td>NaN</td>\n      <td>NaN</td>\n      <td>NaN</td>\n      <td>NaN</td>\n      <td>NaN</td>\n      <td>NaN</td>\n      <td>NaN</td>\n      <td>156633000000</td>\n    </tr>\n    <tr>\n      <th>2</th>\n      <td>2021-12-31</td>\n      <td>GOOG</td>\n      <td>USD</td>\n      <td>1652044</td>\n      <td>2022-02-02</td>\n      <td>2022-02-01 21:08:02</td>\n      <td>2021</td>\n      <td>FY</td>\n      <td>257637000000</td>\n      <td>110939000000</td>\n      <td>...</td>\n      <td>NaN</td>\n      <td>NaN</td>\n      <td>NaN</td>\n      <td>NaN</td>\n      <td>NaN</td>\n      <td>NaN</td>\n      <td>NaN</td>\n      <td>NaN</td>\n      <td>NaN</td>\n      <td>146698000000</td>\n    </tr>\n    <tr>\n      <th>3</th>\n      <td>2020-12-31</td>\n      <td>GOOG</td>\n      <td>USD</td>\n      <td>1652044</td>\n      <td>2021-02-03</td>\n      <td>2021-02-02 20:12:25</td>\n      <td>2020</td>\n      <td>FY</td>\n      <td>182527000000</td>\n      <td>84732000000</td>\n      <td>...</td>\n      <td>NaN</td>\n      <td>NaN</td>\n      <td>NaN</td>\n      <td>NaN</td>\n      <td>NaN</td>\n      <td>NaN</td>\n      <td>NaN</td>\n      <td>NaN</td>\n      <td>NaN</td>\n      <td>97795000000</td>\n    </tr>\n  </tbody>\n</table>\n<p>4 rows × 51 columns</p>\n</div>"
     },
     "execution_count": 20,
     "metadata": {},
     "output_type": "execute_result"
    }
   ],
   "source": [
    "df2"
   ],
   "metadata": {
    "collapsed": false,
    "ExecuteTime": {
     "end_time": "2024-07-04T09:24:28.287696Z",
     "start_time": "2024-07-04T09:24:28.267714Z"
    }
   },
   "id": "c5dc8ea3af4c8411",
   "execution_count": 20
  },
  {
   "cell_type": "code",
   "outputs": [],
   "source": [
    "df3 = pd.read_csv('C:\\\\Users\\\\Olesia\\\\Desktop\\\\incomeStatement-AAPL-annual.csv')"
   ],
   "metadata": {
    "collapsed": false,
    "ExecuteTime": {
     "end_time": "2024-07-04T09:35:05.218017Z",
     "start_time": "2024-07-04T09:35:05.157864Z"
    }
   },
   "id": "d565487ef6cbf651",
   "execution_count": 21
  },
  {
   "cell_type": "code",
   "outputs": [
    {
     "data": {
      "text/plain": "            date  symbol   reportedCurrency         cik          fillingDate  \\\n2023-09-30  AAPL     USD             320193  2023-11-03  2023-11-02 18:08:27   \n2022-09-24  AAPL     USD             320193  2022-10-28  2022-10-27 18:01:14   \n2021-09-25  AAPL     USD             320193  2021-10-29  2021-10-28 18:04:28   \n2020-09-26  AAPL     USD             320193  2020-10-30  2020-10-29 18:06:25   \n\n             acceptedDate  calendarYear        period       revenue  \\\n2023-09-30           2023            FY  383285000000  214137000000   \n2022-09-24           2022            FY  394328000000  223546000000   \n2021-09-25           2021            FY  365817000000  212981000000   \n2020-09-26           2020            FY  274515000000  169559000000   \n\n             costOfRevenue  ...   dividendsPaid   otherDistributions  \\\n2023-09-30    169148000000  ...   -2.638300e+10         -214000000.0   \n2022-09-24    170782000000  ...             NaN                  NaN   \n2021-09-25    152836000000  ...             NaN                  NaN   \n2020-09-26    104956000000  ...             NaN                  NaN   \n\n             retainedEarnings      grossPPE   annualDepreciation  \\\n2023-09-30       5.437600e+10  2.653000e+09        -2.163000e+09   \n2022-09-24                NaN           NaN                  NaN   \n2021-09-25                NaN           NaN                  NaN   \n2020-09-26                NaN           NaN                  NaN   \n\n             capitalExpenditure   netPPE   lastGoodwill  \\\n2023-09-30         5.388600e+10      0.0            0.0   \n2022-09-24                  NaN      NaN            NaN   \n2021-09-25                  NaN      NaN            NaN   \n2020-09-26                  NaN      NaN            NaN   \n\n             acquisitionsAndAdjustments   goodwill  \n2023-09-30                          0.0        NaN  \n2022-09-24                          NaN        NaN  \n2021-09-25                          NaN        NaN  \n2020-09-26                          NaN        NaN  \n\n[4 rows x 50 columns]",
      "text/html": "<div>\n<style scoped>\n    .dataframe tbody tr th:only-of-type {\n        vertical-align: middle;\n    }\n\n    .dataframe tbody tr th {\n        vertical-align: top;\n    }\n\n    .dataframe thead th {\n        text-align: right;\n    }\n</style>\n<table border=\"1\" class=\"dataframe\">\n  <thead>\n    <tr style=\"text-align: right;\">\n      <th></th>\n      <th>date</th>\n      <th>symbol</th>\n      <th>reportedCurrency</th>\n      <th>cik</th>\n      <th>fillingDate</th>\n      <th>acceptedDate</th>\n      <th>calendarYear</th>\n      <th>period</th>\n      <th>revenue</th>\n      <th>costOfRevenue</th>\n      <th>...</th>\n      <th>dividendsPaid</th>\n      <th>otherDistributions</th>\n      <th>retainedEarnings</th>\n      <th>grossPPE</th>\n      <th>annualDepreciation</th>\n      <th>capitalExpenditure</th>\n      <th>netPPE</th>\n      <th>lastGoodwill</th>\n      <th>acquisitionsAndAdjustments</th>\n      <th>goodwill</th>\n    </tr>\n  </thead>\n  <tbody>\n    <tr>\n      <th>2023-09-30</th>\n      <td>AAPL</td>\n      <td>USD</td>\n      <td>320193</td>\n      <td>2023-11-03</td>\n      <td>2023-11-02 18:08:27</td>\n      <td>2023</td>\n      <td>FY</td>\n      <td>383285000000</td>\n      <td>214137000000</td>\n      <td>169148000000</td>\n      <td>...</td>\n      <td>-2.638300e+10</td>\n      <td>-214000000.0</td>\n      <td>5.437600e+10</td>\n      <td>2.653000e+09</td>\n      <td>-2.163000e+09</td>\n      <td>5.388600e+10</td>\n      <td>0.0</td>\n      <td>0.0</td>\n      <td>0.0</td>\n      <td>NaN</td>\n    </tr>\n    <tr>\n      <th>2022-09-24</th>\n      <td>AAPL</td>\n      <td>USD</td>\n      <td>320193</td>\n      <td>2022-10-28</td>\n      <td>2022-10-27 18:01:14</td>\n      <td>2022</td>\n      <td>FY</td>\n      <td>394328000000</td>\n      <td>223546000000</td>\n      <td>170782000000</td>\n      <td>...</td>\n      <td>NaN</td>\n      <td>NaN</td>\n      <td>NaN</td>\n      <td>NaN</td>\n      <td>NaN</td>\n      <td>NaN</td>\n      <td>NaN</td>\n      <td>NaN</td>\n      <td>NaN</td>\n      <td>NaN</td>\n    </tr>\n    <tr>\n      <th>2021-09-25</th>\n      <td>AAPL</td>\n      <td>USD</td>\n      <td>320193</td>\n      <td>2021-10-29</td>\n      <td>2021-10-28 18:04:28</td>\n      <td>2021</td>\n      <td>FY</td>\n      <td>365817000000</td>\n      <td>212981000000</td>\n      <td>152836000000</td>\n      <td>...</td>\n      <td>NaN</td>\n      <td>NaN</td>\n      <td>NaN</td>\n      <td>NaN</td>\n      <td>NaN</td>\n      <td>NaN</td>\n      <td>NaN</td>\n      <td>NaN</td>\n      <td>NaN</td>\n      <td>NaN</td>\n    </tr>\n    <tr>\n      <th>2020-09-26</th>\n      <td>AAPL</td>\n      <td>USD</td>\n      <td>320193</td>\n      <td>2020-10-30</td>\n      <td>2020-10-29 18:06:25</td>\n      <td>2020</td>\n      <td>FY</td>\n      <td>274515000000</td>\n      <td>169559000000</td>\n      <td>104956000000</td>\n      <td>...</td>\n      <td>NaN</td>\n      <td>NaN</td>\n      <td>NaN</td>\n      <td>NaN</td>\n      <td>NaN</td>\n      <td>NaN</td>\n      <td>NaN</td>\n      <td>NaN</td>\n      <td>NaN</td>\n      <td>NaN</td>\n    </tr>\n  </tbody>\n</table>\n<p>4 rows × 50 columns</p>\n</div>"
     },
     "execution_count": 22,
     "metadata": {},
     "output_type": "execute_result"
    }
   ],
   "source": [
    "df3"
   ],
   "metadata": {
    "collapsed": false,
    "ExecuteTime": {
     "end_time": "2024-07-04T09:35:13.091808Z",
     "start_time": "2024-07-04T09:35:13.070841Z"
    }
   },
   "id": "595f03d485262062",
   "execution_count": 22
  },
  {
   "cell_type": "code",
   "outputs": [],
   "source": [
    "df4 = pd.read_csv(\"C:\\\\Users\\\\Olesia\\\\Desktop\\\\incomeStatement-MSFT-annual.csv\")"
   ],
   "metadata": {
    "collapsed": false,
    "ExecuteTime": {
     "end_time": "2024-07-04T09:41:06.448487Z",
     "start_time": "2024-07-04T09:41:06.438642Z"
    }
   },
   "id": "791c7da25d0f594b",
   "execution_count": 23
  },
  {
   "cell_type": "code",
   "outputs": [
    {
     "data": {
      "text/plain": "            date  symbol   reportedCurrency         cik          fillingDate  \\\n2023-06-30  MSFT     USD             789019  2023-07-27  2023-07-27 16:01:56   \n2022-06-30  MSFT     USD             789019  2022-07-28  2022-07-28 16:06:19   \n2021-06-30  MSFT     USD             789019  2021-07-29  2021-07-29 16:21:55   \n2020-06-30  MSFT     USD             789019  2020-07-30  2020-07-30 20:44:46   \n\n             acceptedDate  calendarYear        period      revenue  \\\n2023-06-30           2023            FY  211915000000  65863000000   \n2022-06-30           2022            FY  198270000000  62650000000   \n2021-06-30           2021            FY  168088000000  52232000000   \n2020-06-30           2020            FY  143015000000  46078000000   \n\n             costOfRevenue  ...   dividendsPaid   otherDistributions  \\\n2023-06-30    146052000000  ...    -144000000.0         1.188480e+11   \n2022-06-30    135620000000  ...             NaN                  NaN   \n2021-06-30    115856000000  ...             NaN                  NaN   \n2020-06-30     96937000000  ...             NaN                  NaN   \n\n             retainedEarnings      grossPPE   annualDepreciation  \\\n2023-06-30       1.099870e+11  3.874000e+09        -8.943000e+09   \n2022-06-30                NaN           NaN                  NaN   \n2021-06-30                NaN           NaN                  NaN   \n2020-06-30                NaN           NaN                  NaN   \n\n             capitalExpenditure        netPPE   lastGoodwill  \\\n2023-06-30         1.150560e+11  6.794000e+10    -54000000.0   \n2022-06-30                  NaN           NaN            NaN   \n2021-06-30                  NaN           NaN            NaN   \n2020-06-30                  NaN           NaN            NaN   \n\n             acquisitionsAndAdjustments   goodwill  \n2023-06-30                 6.788600e+10        NaN  \n2022-06-30                          NaN        NaN  \n2021-06-30                          NaN        NaN  \n2020-06-30                          NaN        NaN  \n\n[4 rows x 50 columns]",
      "text/html": "<div>\n<style scoped>\n    .dataframe tbody tr th:only-of-type {\n        vertical-align: middle;\n    }\n\n    .dataframe tbody tr th {\n        vertical-align: top;\n    }\n\n    .dataframe thead th {\n        text-align: right;\n    }\n</style>\n<table border=\"1\" class=\"dataframe\">\n  <thead>\n    <tr style=\"text-align: right;\">\n      <th></th>\n      <th>date</th>\n      <th>symbol</th>\n      <th>reportedCurrency</th>\n      <th>cik</th>\n      <th>fillingDate</th>\n      <th>acceptedDate</th>\n      <th>calendarYear</th>\n      <th>period</th>\n      <th>revenue</th>\n      <th>costOfRevenue</th>\n      <th>...</th>\n      <th>dividendsPaid</th>\n      <th>otherDistributions</th>\n      <th>retainedEarnings</th>\n      <th>grossPPE</th>\n      <th>annualDepreciation</th>\n      <th>capitalExpenditure</th>\n      <th>netPPE</th>\n      <th>lastGoodwill</th>\n      <th>acquisitionsAndAdjustments</th>\n      <th>goodwill</th>\n    </tr>\n  </thead>\n  <tbody>\n    <tr>\n      <th>2023-06-30</th>\n      <td>MSFT</td>\n      <td>USD</td>\n      <td>789019</td>\n      <td>2023-07-27</td>\n      <td>2023-07-27 16:01:56</td>\n      <td>2023</td>\n      <td>FY</td>\n      <td>211915000000</td>\n      <td>65863000000</td>\n      <td>146052000000</td>\n      <td>...</td>\n      <td>-144000000.0</td>\n      <td>1.188480e+11</td>\n      <td>1.099870e+11</td>\n      <td>3.874000e+09</td>\n      <td>-8.943000e+09</td>\n      <td>1.150560e+11</td>\n      <td>6.794000e+10</td>\n      <td>-54000000.0</td>\n      <td>6.788600e+10</td>\n      <td>NaN</td>\n    </tr>\n    <tr>\n      <th>2022-06-30</th>\n      <td>MSFT</td>\n      <td>USD</td>\n      <td>789019</td>\n      <td>2022-07-28</td>\n      <td>2022-07-28 16:06:19</td>\n      <td>2022</td>\n      <td>FY</td>\n      <td>198270000000</td>\n      <td>62650000000</td>\n      <td>135620000000</td>\n      <td>...</td>\n      <td>NaN</td>\n      <td>NaN</td>\n      <td>NaN</td>\n      <td>NaN</td>\n      <td>NaN</td>\n      <td>NaN</td>\n      <td>NaN</td>\n      <td>NaN</td>\n      <td>NaN</td>\n      <td>NaN</td>\n    </tr>\n    <tr>\n      <th>2021-06-30</th>\n      <td>MSFT</td>\n      <td>USD</td>\n      <td>789019</td>\n      <td>2021-07-29</td>\n      <td>2021-07-29 16:21:55</td>\n      <td>2021</td>\n      <td>FY</td>\n      <td>168088000000</td>\n      <td>52232000000</td>\n      <td>115856000000</td>\n      <td>...</td>\n      <td>NaN</td>\n      <td>NaN</td>\n      <td>NaN</td>\n      <td>NaN</td>\n      <td>NaN</td>\n      <td>NaN</td>\n      <td>NaN</td>\n      <td>NaN</td>\n      <td>NaN</td>\n      <td>NaN</td>\n    </tr>\n    <tr>\n      <th>2020-06-30</th>\n      <td>MSFT</td>\n      <td>USD</td>\n      <td>789019</td>\n      <td>2020-07-30</td>\n      <td>2020-07-30 20:44:46</td>\n      <td>2020</td>\n      <td>FY</td>\n      <td>143015000000</td>\n      <td>46078000000</td>\n      <td>96937000000</td>\n      <td>...</td>\n      <td>NaN</td>\n      <td>NaN</td>\n      <td>NaN</td>\n      <td>NaN</td>\n      <td>NaN</td>\n      <td>NaN</td>\n      <td>NaN</td>\n      <td>NaN</td>\n      <td>NaN</td>\n      <td>NaN</td>\n    </tr>\n  </tbody>\n</table>\n<p>4 rows × 50 columns</p>\n</div>"
     },
     "execution_count": 24,
     "metadata": {},
     "output_type": "execute_result"
    }
   ],
   "source": [
    "df4"
   ],
   "metadata": {
    "collapsed": false,
    "ExecuteTime": {
     "end_time": "2024-07-04T09:41:23.365414Z",
     "start_time": "2024-07-04T09:41:23.343649Z"
    }
   },
   "id": "40c274fab429bec4",
   "execution_count": 24
  },
  {
   "cell_type": "code",
   "outputs": [],
   "source": [
    "df5 = pd.read_csv(\"C:\\\\Users\\\\Olesia\\\\Desktop\\\\incomeStatement-RDDT-annual.csv\")"
   ],
   "metadata": {
    "collapsed": false,
    "ExecuteTime": {
     "end_time": "2024-07-04T09:46:27.114429Z",
     "start_time": "2024-07-04T09:46:27.105914Z"
    }
   },
   "id": "d729c46172c68690",
   "execution_count": 32
  },
  {
   "cell_type": "code",
   "outputs": [
    {
     "data": {
      "text/plain": "            date  symbol   reportedCurrency         cik          fillingDate  \\\n2023-12-31  RDDT     USD            1713445  2023-12-31  2023-12-30 19:00:00   \n2022-12-31  RDDT     USD            1713445  2022-12-31  2022-12-30 19:00:00   \n2021-12-31  RDDT     USD            1713445  2021-12-31  2021-12-30 19:00:00   \n2020-12-31  RDDT     USD            1713445  2020-12-31  2020-12-30 19:00:00   \n\n             acceptedDate  calendarYear     period    revenue   costOfRevenue  \\\n2023-12-31           2023            FY  804029000  111011000       693018000   \n2022-12-31           2022            FY  666701000  104799000       561902000   \n2021-12-31           2021            FY  484916000   72565000       412351000   \n2020-12-31           2020            FY  228908000   55026000       173882000   \n\n            ...   dividendsPaid   otherDistributions   retainedEarnings  \\\n2023-12-31  ...      18443000.0         -716562000.0         38954000.0   \n2022-12-31  ...             NaN                  NaN                NaN   \n2021-12-31  ...             NaN                  NaN                NaN   \n2020-12-31  ...             NaN                  NaN                NaN   \n\n             grossPPE   annualDepreciation   capitalExpenditure      netPPE  \\\n2023-12-31  3755000.0           -4602000.0           39801000.0  26299000.0   \n2022-12-31        NaN                  NaN                  NaN         NaN   \n2021-12-31        NaN                  NaN                  NaN         NaN   \n2020-12-31        NaN                  NaN                  NaN         NaN   \n\n             lastGoodwill   acquisitionsAndAdjustments   goodwill  \n2023-12-31            0.0                   26299000.0        NaN  \n2022-12-31            NaN                          NaN        NaN  \n2021-12-31            NaN                          NaN        NaN  \n2020-12-31            NaN                          NaN        NaN  \n\n[4 rows x 50 columns]",
      "text/html": "<div>\n<style scoped>\n    .dataframe tbody tr th:only-of-type {\n        vertical-align: middle;\n    }\n\n    .dataframe tbody tr th {\n        vertical-align: top;\n    }\n\n    .dataframe thead th {\n        text-align: right;\n    }\n</style>\n<table border=\"1\" class=\"dataframe\">\n  <thead>\n    <tr style=\"text-align: right;\">\n      <th></th>\n      <th>date</th>\n      <th>symbol</th>\n      <th>reportedCurrency</th>\n      <th>cik</th>\n      <th>fillingDate</th>\n      <th>acceptedDate</th>\n      <th>calendarYear</th>\n      <th>period</th>\n      <th>revenue</th>\n      <th>costOfRevenue</th>\n      <th>...</th>\n      <th>dividendsPaid</th>\n      <th>otherDistributions</th>\n      <th>retainedEarnings</th>\n      <th>grossPPE</th>\n      <th>annualDepreciation</th>\n      <th>capitalExpenditure</th>\n      <th>netPPE</th>\n      <th>lastGoodwill</th>\n      <th>acquisitionsAndAdjustments</th>\n      <th>goodwill</th>\n    </tr>\n  </thead>\n  <tbody>\n    <tr>\n      <th>2023-12-31</th>\n      <td>RDDT</td>\n      <td>USD</td>\n      <td>1713445</td>\n      <td>2023-12-31</td>\n      <td>2023-12-30 19:00:00</td>\n      <td>2023</td>\n      <td>FY</td>\n      <td>804029000</td>\n      <td>111011000</td>\n      <td>693018000</td>\n      <td>...</td>\n      <td>18443000.0</td>\n      <td>-716562000.0</td>\n      <td>38954000.0</td>\n      <td>3755000.0</td>\n      <td>-4602000.0</td>\n      <td>39801000.0</td>\n      <td>26299000.0</td>\n      <td>0.0</td>\n      <td>26299000.0</td>\n      <td>NaN</td>\n    </tr>\n    <tr>\n      <th>2022-12-31</th>\n      <td>RDDT</td>\n      <td>USD</td>\n      <td>1713445</td>\n      <td>2022-12-31</td>\n      <td>2022-12-30 19:00:00</td>\n      <td>2022</td>\n      <td>FY</td>\n      <td>666701000</td>\n      <td>104799000</td>\n      <td>561902000</td>\n      <td>...</td>\n      <td>NaN</td>\n      <td>NaN</td>\n      <td>NaN</td>\n      <td>NaN</td>\n      <td>NaN</td>\n      <td>NaN</td>\n      <td>NaN</td>\n      <td>NaN</td>\n      <td>NaN</td>\n      <td>NaN</td>\n    </tr>\n    <tr>\n      <th>2021-12-31</th>\n      <td>RDDT</td>\n      <td>USD</td>\n      <td>1713445</td>\n      <td>2021-12-31</td>\n      <td>2021-12-30 19:00:00</td>\n      <td>2021</td>\n      <td>FY</td>\n      <td>484916000</td>\n      <td>72565000</td>\n      <td>412351000</td>\n      <td>...</td>\n      <td>NaN</td>\n      <td>NaN</td>\n      <td>NaN</td>\n      <td>NaN</td>\n      <td>NaN</td>\n      <td>NaN</td>\n      <td>NaN</td>\n      <td>NaN</td>\n      <td>NaN</td>\n      <td>NaN</td>\n    </tr>\n    <tr>\n      <th>2020-12-31</th>\n      <td>RDDT</td>\n      <td>USD</td>\n      <td>1713445</td>\n      <td>2020-12-31</td>\n      <td>2020-12-30 19:00:00</td>\n      <td>2020</td>\n      <td>FY</td>\n      <td>228908000</td>\n      <td>55026000</td>\n      <td>173882000</td>\n      <td>...</td>\n      <td>NaN</td>\n      <td>NaN</td>\n      <td>NaN</td>\n      <td>NaN</td>\n      <td>NaN</td>\n      <td>NaN</td>\n      <td>NaN</td>\n      <td>NaN</td>\n      <td>NaN</td>\n      <td>NaN</td>\n    </tr>\n  </tbody>\n</table>\n<p>4 rows × 50 columns</p>\n</div>"
     },
     "execution_count": 33,
     "metadata": {},
     "output_type": "execute_result"
    }
   ],
   "source": [
    "df5"
   ],
   "metadata": {
    "collapsed": false,
    "ExecuteTime": {
     "end_time": "2024-07-04T09:46:27.621589Z",
     "start_time": "2024-07-04T09:46:27.602671Z"
    }
   },
   "id": "9c38842044b85aa9",
   "execution_count": 33
  },
  {
   "cell_type": "code",
   "outputs": [],
   "source": [
    "df6 = pd.read_csv(\"C:\\\\Users\\\\Olesia\\\\Downloads\\\\incomeStatement-NFLX-annual.csv\", index_col= False)"
   ],
   "metadata": {
    "collapsed": false,
    "ExecuteTime": {
     "end_time": "2024-07-04T18:23:36.953950Z",
     "start_time": "2024-07-04T18:23:36.877866Z"
    }
   },
   "id": "f6b17e480646c31f",
   "execution_count": 4
  },
  {
   "cell_type": "code",
   "outputs": [
    {
     "data": {
      "text/plain": "         date  symbol  reportedCurrency      cik  fillingDate  \\\n0  2023-12-31    NFLX               USD  1065280   2024-01-26   \n1  2022-12-31    NFLX               USD  1065280   2023-01-26   \n2  2021-12-31    NFLX               USD  1065280   2022-01-27   \n3  2020-12-31    NFLX               USD  1065280   2021-01-28   \n\n          acceptedDate   calendarYear  period      revenue   costOfRevenue  \\\n0  2024-01-26 16:01:56           2023      FY  33723297000     19715368000   \n1  2023-01-26 16:03:50           2022      FY  31615550000     19168285000   \n2  2022-01-27 17:03:33           2021      FY  29697844000     17332683000   \n3  2021-01-28 16:21:59           2020      FY  24996056000     15276319000   \n\n   ...   dividendsPaid   otherDistributions   retainedEarnings      grossPPE  \\\n0  ...             0.0        -1.562162e+09       2.258929e+10  1.491444e+09   \n1  ...             NaN                  NaN                NaN           NaN   \n2  ...             NaN                  NaN                NaN           NaN   \n3  ...             NaN                  NaN                NaN           NaN   \n\n    annualDepreciation   capitalExpenditure        netPPE   lastGoodwill  \\\n0         3.840646e+09          -81632000.0 -2.267570e+09            0.0   \n1                  NaN                  NaN           NaN            NaN   \n2                  NaN                  NaN           NaN            NaN   \n3                  NaN                  NaN           NaN            NaN   \n\n    acquisitionsAndAdjustments   goodwill  \n0                          0.0        0.0  \n1                          NaN        NaN  \n2                          NaN        NaN  \n3                          NaN        NaN  \n\n[4 rows x 50 columns]",
      "text/html": "<div>\n<style scoped>\n    .dataframe tbody tr th:only-of-type {\n        vertical-align: middle;\n    }\n\n    .dataframe tbody tr th {\n        vertical-align: top;\n    }\n\n    .dataframe thead th {\n        text-align: right;\n    }\n</style>\n<table border=\"1\" class=\"dataframe\">\n  <thead>\n    <tr style=\"text-align: right;\">\n      <th></th>\n      <th>date</th>\n      <th>symbol</th>\n      <th>reportedCurrency</th>\n      <th>cik</th>\n      <th>fillingDate</th>\n      <th>acceptedDate</th>\n      <th>calendarYear</th>\n      <th>period</th>\n      <th>revenue</th>\n      <th>costOfRevenue</th>\n      <th>...</th>\n      <th>dividendsPaid</th>\n      <th>otherDistributions</th>\n      <th>retainedEarnings</th>\n      <th>grossPPE</th>\n      <th>annualDepreciation</th>\n      <th>capitalExpenditure</th>\n      <th>netPPE</th>\n      <th>lastGoodwill</th>\n      <th>acquisitionsAndAdjustments</th>\n      <th>goodwill</th>\n    </tr>\n  </thead>\n  <tbody>\n    <tr>\n      <th>0</th>\n      <td>2023-12-31</td>\n      <td>NFLX</td>\n      <td>USD</td>\n      <td>1065280</td>\n      <td>2024-01-26</td>\n      <td>2024-01-26 16:01:56</td>\n      <td>2023</td>\n      <td>FY</td>\n      <td>33723297000</td>\n      <td>19715368000</td>\n      <td>...</td>\n      <td>0.0</td>\n      <td>-1.562162e+09</td>\n      <td>2.258929e+10</td>\n      <td>1.491444e+09</td>\n      <td>3.840646e+09</td>\n      <td>-81632000.0</td>\n      <td>-2.267570e+09</td>\n      <td>0.0</td>\n      <td>0.0</td>\n      <td>0.0</td>\n    </tr>\n    <tr>\n      <th>1</th>\n      <td>2022-12-31</td>\n      <td>NFLX</td>\n      <td>USD</td>\n      <td>1065280</td>\n      <td>2023-01-26</td>\n      <td>2023-01-26 16:03:50</td>\n      <td>2022</td>\n      <td>FY</td>\n      <td>31615550000</td>\n      <td>19168285000</td>\n      <td>...</td>\n      <td>NaN</td>\n      <td>NaN</td>\n      <td>NaN</td>\n      <td>NaN</td>\n      <td>NaN</td>\n      <td>NaN</td>\n      <td>NaN</td>\n      <td>NaN</td>\n      <td>NaN</td>\n      <td>NaN</td>\n    </tr>\n    <tr>\n      <th>2</th>\n      <td>2021-12-31</td>\n      <td>NFLX</td>\n      <td>USD</td>\n      <td>1065280</td>\n      <td>2022-01-27</td>\n      <td>2022-01-27 17:03:33</td>\n      <td>2021</td>\n      <td>FY</td>\n      <td>29697844000</td>\n      <td>17332683000</td>\n      <td>...</td>\n      <td>NaN</td>\n      <td>NaN</td>\n      <td>NaN</td>\n      <td>NaN</td>\n      <td>NaN</td>\n      <td>NaN</td>\n      <td>NaN</td>\n      <td>NaN</td>\n      <td>NaN</td>\n      <td>NaN</td>\n    </tr>\n    <tr>\n      <th>3</th>\n      <td>2020-12-31</td>\n      <td>NFLX</td>\n      <td>USD</td>\n      <td>1065280</td>\n      <td>2021-01-28</td>\n      <td>2021-01-28 16:21:59</td>\n      <td>2020</td>\n      <td>FY</td>\n      <td>24996056000</td>\n      <td>15276319000</td>\n      <td>...</td>\n      <td>NaN</td>\n      <td>NaN</td>\n      <td>NaN</td>\n      <td>NaN</td>\n      <td>NaN</td>\n      <td>NaN</td>\n      <td>NaN</td>\n      <td>NaN</td>\n      <td>NaN</td>\n      <td>NaN</td>\n    </tr>\n  </tbody>\n</table>\n<p>4 rows × 50 columns</p>\n</div>"
     },
     "execution_count": 5,
     "metadata": {},
     "output_type": "execute_result"
    }
   ],
   "source": [
    "df6"
   ],
   "metadata": {
    "collapsed": false,
    "ExecuteTime": {
     "end_time": "2024-07-04T18:23:38.122889Z",
     "start_time": "2024-07-04T18:23:38.101389Z"
    }
   },
   "id": "296b7674d99f253d",
   "execution_count": 5
  },
  {
   "cell_type": "code",
   "outputs": [],
   "source": [],
   "metadata": {
    "collapsed": false
   },
   "id": "c208dc388d52825c"
  }
 ],
 "metadata": {
  "kernelspec": {
   "display_name": "Python 3",
   "language": "python",
   "name": "python3"
  },
  "language_info": {
   "codemirror_mode": {
    "name": "ipython",
    "version": 2
   },
   "file_extension": ".py",
   "mimetype": "text/x-python",
   "name": "python",
   "nbconvert_exporter": "python",
   "pygments_lexer": "ipython2",
   "version": "2.7.6"
  }
 },
 "nbformat": 4,
 "nbformat_minor": 5
}
